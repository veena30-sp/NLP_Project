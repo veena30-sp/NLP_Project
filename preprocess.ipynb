{
 "cells": [
  {
   "cell_type": "code",
   "execution_count": 33,
   "metadata": {},
   "outputs": [],
   "source": [
    "import numpy as np # linear algebra\n",
    "import pandas as pd # data processing, CSV file I/O (e.g. pd.read_csv)\n",
    "import string"
   ]
  },
  {
   "cell_type": "code",
   "execution_count": 34,
   "metadata": {},
   "outputs": [
    {
     "name": "stdout",
     "output_type": "stream",
     "text": [
      "                                                 company  \\\n",
      "12171                        Waytogo Consultants Pvt Ltd   \n",
      "12176  QUANTUM ASSET MANAGEMENT COMPANY PRIVATE LIMITED.   \n",
      "12181    BIO JOBZ( Medulla Recruitment Services Pvt Ltd)   \n",
      "12210                AERONUBE TECHNOLOGY PRIVATE LIMITED   \n",
      "12221                  Zirca Digital Solutions Pvt. Ltd.   \n",
      "\n",
      "                                               education   experience  \\\n",
      "12171              UG: Any Graduate - Any Specialization    2 - 5 yrs   \n",
      "12176  UG: Any Graduate - Any Specialization PG:Any P...    3 - 6 yrs   \n",
      "12181   UG: B.Tech/B.E. - Any Specialization, Mechanical  10 - 15 yrs   \n",
      "12210  UG: Any Graduate - Any Specialization PG:Any P...   8 - 10 yrs   \n",
      "12221  UG: Any Graduate - Any Specialization PG:Any P...    2 - 5 yrs   \n",
      "\n",
      "                                     industry  \\\n",
      "12171  Banking / Financial Services / Broking   \n",
      "12176         IT-Software / Software Services   \n",
      "12181    Pharma / Biotech / Clinical Research   \n",
      "12210  Banking / Financial Services / Broking   \n",
      "12221        Media / Entertainment / Internet   \n",
      "\n",
      "                                          jobdescription         jobid  \\\n",
      "12171  Job Description   Send me Jobs like this Handl...   91116600303   \n",
      "12176  Job Description   Send me Jobs like this The c...  230916600730   \n",
      "12181  Job Description   Send me Jobs like this 1.PR ...   51116600126   \n",
      "12210  Job Description   Send me Jobs like this Greet...  101116600372   \n",
      "12221  Job Description   Send me Jobs like this - Dev...  181016600001   \n",
      "\n",
      "                               joblocation_address  \\\n",
      "12171  Mumbai, Navi Mumbai, Mumbai Suburbs, Mumbai   \n",
      "12176                                       Mumbai   \n",
      "12181                                       Mumbai   \n",
      "12210                                       Mumbai   \n",
      "12221                            Bengaluru, Mumbai   \n",
      "\n",
      "                                                jobtitle  numberofpositions  \\\n",
      "12171                            Sales Support Executive                2.0   \n",
      "12176                     Software Developer - Asp . Net                6.0   \n",
      "12181                                Capital Procurement                1.0   \n",
      "12210  Risk & Compliance â?? Financial Services / Mum...                2.0   \n",
      "12221                Sales Executive / Assistant Manager                2.0   \n",
      "\n",
      "                                                 payrate  \\\n",
      "12171                            2,50,000 - 6,00,000 P.A   \n",
      "12176                         Not Disclosed by Recruiter   \n",
      "12181                         Not Disclosed by Recruiter   \n",
      "12210                         Not Disclosed by Recruiter   \n",
      "12221  5,00,000 - 9,00,000 P.A. Reimbursement & Medic...   \n",
      "\n",
      "                        postdate       site_name  \\\n",
      "12171  2016-11-08 19:48:31 +0000  www.naukri.com   \n",
      "12176  2016-12-02 19:48:31 +0000  www.naukri.com   \n",
      "12181  2016-11-04 19:48:31 +0000  www.naukri.com   \n",
      "12210  2016-11-09 19:48:32 +0000  www.naukri.com   \n",
      "12221  2016-11-09 19:48:32 +0000  www.naukri.com   \n",
      "\n",
      "                                      skills                           uniq_id  \n",
      "12171                     Financial Services  18ba67833dff4e7962ade4b615bb4cf2  \n",
      "12176  IT Software - Application Programming  d0f22f82c236f2291123505335c9b10a  \n",
      "12181                           Supply Chain  284a5c4f3287982760eabe250e6ba0c1  \n",
      "12210                               Accounts  71183fc0a19e2c5cf47b76d787a649a2  \n",
      "12221                                  Sales  bb4231c5bcd75a47b8ca0673241db645  \n",
      "\n",
      " ** data shape **\n",
      "\n",
      "(485, 14)\n"
     ]
    }
   ],
   "source": [
    "df = pd.read_csv('/home/veena/Desktop/info_extra/job_description/naukri_com-job_sample.csv')\n",
    "df= df.dropna()\n",
    "print(df.head())\n",
    "\n",
    "print(\"\\n ** data shape **\\n\")\n",
    "print(df.shape)"
   ]
  },
  {
   "cell_type": "code",
   "execution_count": 35,
   "metadata": {},
   "outputs": [
    {
     "name": "stdout",
     "output_type": "stream",
     "text": [
      "Preprocessed data: \n",
      "\n",
      "12171     handling sales support function for banking &...\n",
      "12176     the candidate should be well versed with - as...\n",
      "12181     1.pr to po  to manage entire pr to po process...\n",
      "12210     greetings from aeronube technology    this is...\n",
      "12221     - develop strategic plan to achieve revenue g...\n",
      "Name: jobdescription, dtype: object\n"
     ]
    }
   ],
   "source": [
    "import nltk\n",
    "import re\n",
    "\n",
    "# Check if the 'jobdescription' column exists\n",
    "if 'jobdescription' in df.columns:\n",
    "    # Select the 'jobdescription' column\n",
    "    test = df['jobdescription']\n",
    "\n",
    "    # Preprocessing steps\n",
    "    ## Lower case\n",
    "    test = test.apply(lambda x: \" \".join(x.lower() for x in x.split()))\n",
    "\n",
    "    ## Remove tabulation and punctuation (special characters)\n",
    "    test = test.str.replace('[!#*:]', ' ', regex=True)\n",
    "    test = test.str.replace('\"', '', regex=False)\n",
    "\n",
    "    ## Remove specific phrase with flexible spacing\n",
    "    pattern = r'\\bjob\\s+description\\s+send\\s+me\\s+job(?:s)?\\s+like\\s+this\\b'\n",
    "    test = test.apply(lambda x: re.sub(pattern, '', x, flags=re.IGNORECASE))\n",
    "\n",
    "    print(\"Preprocessed data: \\n\")\n",
    "    print(test.head())\n",
    "else:\n",
    "    print(\"The 'jobdescription' column does not exist in the DataFrame.\")"
   ]
  },
  {
   "cell_type": "code",
   "execution_count": 36,
   "metadata": {},
   "outputs": [
    {
     "name": "stdout",
     "output_type": "stream",
     "text": [
      "12171     handling sales support function for banking &...\n",
      "12176     the candidate should be well versed with - as...\n",
      "12181     1.pr to po  to manage entire pr to po process...\n",
      "12210     greetings from aeronube technology    this is...\n",
      "12221     - develop strategic plan to achieve revenue g...\n",
      "12244     - assist in guiding clients to execute and ov...\n",
      "12272     greetings from aeronube technology    this is...\n",
      "12282     responsibilities   demonstrate leadership thr...\n",
      "12286     generating business by opening new market ave...\n",
      "12333     candidates with experience in handling hr gen...\n",
      "Name: jobdescription, dtype: object\n"
     ]
    }
   ],
   "source": [
    "print(test.head(10))"
   ]
  },
  {
   "cell_type": "code",
   "execution_count": 37,
   "metadata": {},
   "outputs": [],
   "source": [
    "# Save the preprocessed data to a text file\n",
    "test.to_csv('preprocessed_data.txt', index=False, header=False)\n"
   ]
  },
  {
   "cell_type": "code",
   "execution_count": 38,
   "metadata": {},
   "outputs": [],
   "source": [
    "# Set the input file name\n",
    "input_file = 'preprocessed_data.txt'\n",
    "\n",
    "# Set the number of entries per file\n",
    "entries_per_file = 100\n",
    "\n",
    "# Initialize a counter for the output file names\n",
    "file_counter = 1\n",
    "\n",
    "# Open the input file for reading\n",
    "with open(input_file, 'r') as f:\n",
    "    lines = f.readlines()  # Read all lines from the input file\n",
    "\n",
    "    # Create a new output file for every 100 entries, limited to 3 output files\n",
    "    for i in range(0, min(len(lines), entries_per_file * 3), entries_per_file):\n",
    "        output_file = f'output_file_{file_counter}.txt'\n",
    "        with open(output_file, 'w') as out_f:\n",
    "            out_f.writelines(lines[i:i+entries_per_file])  # Write the current batch of 100 entries to the output file\n",
    "        file_counter += 1\n"
   ]
  }
 ],
 "metadata": {
  "kernelspec": {
   "display_name": "Python 3",
   "language": "python",
   "name": "python3"
  },
  "language_info": {
   "codemirror_mode": {
    "name": "ipython",
    "version": 3
   },
   "file_extension": ".py",
   "mimetype": "text/x-python",
   "name": "python",
   "nbconvert_exporter": "python",
   "pygments_lexer": "ipython3",
   "version": "3.10.12"
  }
 },
 "nbformat": 4,
 "nbformat_minor": 2
}
